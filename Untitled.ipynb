{
 "cells": [
  {
   "cell_type": "code",
   "execution_count": 60,
   "id": "f8961ede",
   "metadata": {},
   "outputs": [],
   "source": [
    "\n",
    "import sagemaker\n",
    "import boto3\n",
    "from sagemaker.amazon.amazon_estimator import get_image_uri \n",
    "from sagemaker.session import s3_input, Session"
   ]
  },
  {
   "cell_type": "code",
   "execution_count": 44,
   "id": "ef4fad42",
   "metadata": {},
   "outputs": [
    {
     "name": "stdout",
     "output_type": "stream",
     "text": [
      "us-east-1\n"
     ]
    }
   ],
   "source": [
    "bucket_name = 'ssbankapplication' # <--- CHANGE THIS VARIABLE TO A UNIQUE NAME FOR YOUR BUCKET\n",
    "my_region = boto3.session.Session().region_name # set the region of the instance\n",
    "print(my_region)"
   ]
  },
  {
   "cell_type": "code",
   "execution_count": 45,
   "id": "e07e8774",
   "metadata": {},
   "outputs": [
    {
     "name": "stdout",
     "output_type": "stream",
     "text": [
      "S3 bucket created successfully\n"
     ]
    }
   ],
   "source": [
    "\n",
    "s3 = boto3.resource('s3')\n",
    "try:\n",
    "    if  my_region == 'us-east-1':\n",
    "        s3.create_bucket(Bucket=bucket_name)\n",
    "    print('S3 bucket created successfully')\n",
    "except Exception as e:\n",
    "    print('S3 error: ',e)\n",
    "     "
   ]
  },
  {
   "cell_type": "code",
   "execution_count": 80,
   "id": "1af3e8f6",
   "metadata": {},
   "outputs": [
    {
     "name": "stdout",
     "output_type": "stream",
     "text": [
      "s3://ssbankapplication/xgboost-as-a-built-in-algo/output\n"
     ]
    }
   ],
   "source": [
    "\n",
    "# set an output path where the trained model will be saved\n",
    "prefix = 'xgboost-as-a-built-in-algo'\n",
    "output_path ='s3://{}/{}/output'.format(bucket_name, prefix)\n",
    "print(output_path)"
   ]
  },
  {
   "cell_type": "code",
   "execution_count": 102,
   "id": "dfa79498",
   "metadata": {},
   "outputs": [
    {
     "name": "stdout",
     "output_type": "stream",
     "text": [
      "Collecting gdown\n",
      "  Downloading gdown-5.2.0-py3-none-any.whl.metadata (5.8 kB)\n",
      "Requirement already satisfied: beautifulsoup4 in /home/ec2-user/anaconda3/envs/python3/lib/python3.10/site-packages (from gdown) (4.12.3)\n",
      "Requirement already satisfied: filelock in /home/ec2-user/anaconda3/envs/python3/lib/python3.10/site-packages (from gdown) (3.13.3)\n",
      "Requirement already satisfied: requests[socks] in /home/ec2-user/anaconda3/envs/python3/lib/python3.10/site-packages (from gdown) (2.31.0)\n",
      "Requirement already satisfied: tqdm in /home/ec2-user/anaconda3/envs/python3/lib/python3.10/site-packages (from gdown) (4.66.2)\n",
      "Requirement already satisfied: soupsieve>1.2 in /home/ec2-user/anaconda3/envs/python3/lib/python3.10/site-packages (from beautifulsoup4->gdown) (2.5)\n",
      "Requirement already satisfied: charset-normalizer<4,>=2 in /home/ec2-user/anaconda3/envs/python3/lib/python3.10/site-packages (from requests[socks]->gdown) (3.3.2)\n",
      "Requirement already satisfied: idna<4,>=2.5 in /home/ec2-user/anaconda3/envs/python3/lib/python3.10/site-packages (from requests[socks]->gdown) (3.6)\n",
      "Requirement already satisfied: urllib3<3,>=1.21.1 in /home/ec2-user/anaconda3/envs/python3/lib/python3.10/site-packages (from requests[socks]->gdown) (2.2.1)\n",
      "Requirement already satisfied: certifi>=2017.4.17 in /home/ec2-user/anaconda3/envs/python3/lib/python3.10/site-packages (from requests[socks]->gdown) (2024.2.2)\n",
      "Requirement already satisfied: PySocks!=1.5.7,>=1.5.6 in /home/ec2-user/anaconda3/envs/python3/lib/python3.10/site-packages (from requests[socks]->gdown) (1.7.1)\n",
      "Downloading gdown-5.2.0-py3-none-any.whl (18 kB)\n",
      "Installing collected packages: gdown\n",
      "Successfully installed gdown-5.2.0\n"
     ]
    }
   ],
   "source": [
    "!pip install gdown\n"
   ]
  },
  {
   "cell_type": "code",
   "execution_count": 110,
   "id": "2d2dd02e",
   "metadata": {},
   "outputs": [
    {
     "name": "stderr",
     "output_type": "stream",
     "text": [
      "Downloading...\n",
      "From: https://drive.google.com/uc?id=1vDlolkCu1_gKYreG-J9uC6DSo5J7xrT2\n",
      "To: /home/ec2-user/SageMaker/Housing.csv\n",
      "100%|██████████| 30.0k/30.0k [00:00<00:00, 15.5MB/s]"
     ]
    },
    {
     "name": "stdout",
     "output_type": "stream",
     "text": [
      "Success: Downloaded Housing.csv from Google Drive.\n",
      "Success: Data loaded into DataFrame.\n"
     ]
    },
    {
     "name": "stderr",
     "output_type": "stream",
     "text": [
      "\n"
     ]
    }
   ],
   "source": [
    "import pandas as pd\n",
    "import gdown\n",
    "\n",
    "# Download the dataset from Google Drive\n",
    "url = 'https://drive.google.com/uc?id=1vDlolkCu1_gKYreG-J9uC6DSo5J7xrT2'\n",
    "output = 'Housing.csv'\n",
    "try:\n",
    "    gdown.download(url, output, quiet=False)\n",
    "    print('Success: Downloaded Housing.csv from Google Drive.')\n",
    "except Exception as e:\n",
    "    print('Data download error: ', e)\n",
    "\n",
    "# Load the dataset into a DataFrame\n",
    "try:\n",
    "    model_data = pd.read_csv('Housing.csv')\n",
    "    print('Success: Data loaded into DataFrame.')\n",
    "except Exception as e:\n",
    "    print('Data load error: ', e)\n",
    "\n",
    "\n",
    "\n",
    "\n"
   ]
  },
  {
   "cell_type": "code",
   "execution_count": 111,
   "id": "2acd849d",
   "metadata": {},
   "outputs": [
    {
     "data": {
      "text/html": [
       "<div>\n",
       "<style scoped>\n",
       "    .dataframe tbody tr th:only-of-type {\n",
       "        vertical-align: middle;\n",
       "    }\n",
       "\n",
       "    .dataframe tbody tr th {\n",
       "        vertical-align: top;\n",
       "    }\n",
       "\n",
       "    .dataframe thead th {\n",
       "        text-align: right;\n",
       "    }\n",
       "</style>\n",
       "<table border=\"1\" class=\"dataframe\">\n",
       "  <thead>\n",
       "    <tr style=\"text-align: right;\">\n",
       "      <th></th>\n",
       "      <th>price</th>\n",
       "      <th>area</th>\n",
       "      <th>bedrooms</th>\n",
       "      <th>bathrooms</th>\n",
       "      <th>stories</th>\n",
       "      <th>mainroad</th>\n",
       "      <th>guestroom</th>\n",
       "      <th>basement</th>\n",
       "      <th>hotwaterheating</th>\n",
       "      <th>airconditioning</th>\n",
       "      <th>parking</th>\n",
       "      <th>prefarea</th>\n",
       "      <th>furnishingstatus</th>\n",
       "    </tr>\n",
       "  </thead>\n",
       "  <tbody>\n",
       "    <tr>\n",
       "      <th>0</th>\n",
       "      <td>13300000</td>\n",
       "      <td>7420</td>\n",
       "      <td>4</td>\n",
       "      <td>2</td>\n",
       "      <td>3</td>\n",
       "      <td>yes</td>\n",
       "      <td>no</td>\n",
       "      <td>no</td>\n",
       "      <td>no</td>\n",
       "      <td>yes</td>\n",
       "      <td>2</td>\n",
       "      <td>yes</td>\n",
       "      <td>furnished</td>\n",
       "    </tr>\n",
       "    <tr>\n",
       "      <th>1</th>\n",
       "      <td>12250000</td>\n",
       "      <td>8960</td>\n",
       "      <td>4</td>\n",
       "      <td>4</td>\n",
       "      <td>4</td>\n",
       "      <td>yes</td>\n",
       "      <td>no</td>\n",
       "      <td>no</td>\n",
       "      <td>no</td>\n",
       "      <td>yes</td>\n",
       "      <td>3</td>\n",
       "      <td>no</td>\n",
       "      <td>furnished</td>\n",
       "    </tr>\n",
       "    <tr>\n",
       "      <th>2</th>\n",
       "      <td>12250000</td>\n",
       "      <td>9960</td>\n",
       "      <td>3</td>\n",
       "      <td>2</td>\n",
       "      <td>2</td>\n",
       "      <td>yes</td>\n",
       "      <td>no</td>\n",
       "      <td>yes</td>\n",
       "      <td>no</td>\n",
       "      <td>no</td>\n",
       "      <td>2</td>\n",
       "      <td>yes</td>\n",
       "      <td>semi-furnished</td>\n",
       "    </tr>\n",
       "    <tr>\n",
       "      <th>3</th>\n",
       "      <td>12215000</td>\n",
       "      <td>7500</td>\n",
       "      <td>4</td>\n",
       "      <td>2</td>\n",
       "      <td>2</td>\n",
       "      <td>yes</td>\n",
       "      <td>no</td>\n",
       "      <td>yes</td>\n",
       "      <td>no</td>\n",
       "      <td>yes</td>\n",
       "      <td>3</td>\n",
       "      <td>yes</td>\n",
       "      <td>furnished</td>\n",
       "    </tr>\n",
       "    <tr>\n",
       "      <th>4</th>\n",
       "      <td>11410000</td>\n",
       "      <td>7420</td>\n",
       "      <td>4</td>\n",
       "      <td>1</td>\n",
       "      <td>2</td>\n",
       "      <td>yes</td>\n",
       "      <td>yes</td>\n",
       "      <td>yes</td>\n",
       "      <td>no</td>\n",
       "      <td>yes</td>\n",
       "      <td>2</td>\n",
       "      <td>no</td>\n",
       "      <td>furnished</td>\n",
       "    </tr>\n",
       "  </tbody>\n",
       "</table>\n",
       "</div>"
      ],
      "text/plain": [
       "      price  area  bedrooms  bathrooms  stories mainroad guestroom basement  \\\n",
       "0  13300000  7420         4          2        3      yes        no       no   \n",
       "1  12250000  8960         4          4        4      yes        no       no   \n",
       "2  12250000  9960         3          2        2      yes        no      yes   \n",
       "3  12215000  7500         4          2        2      yes        no      yes   \n",
       "4  11410000  7420         4          1        2      yes       yes      yes   \n",
       "\n",
       "  hotwaterheating airconditioning  parking prefarea furnishingstatus  \n",
       "0              no             yes        2      yes        furnished  \n",
       "1              no             yes        3       no        furnished  \n",
       "2              no              no        2      yes   semi-furnished  \n",
       "3              no             yes        3      yes        furnished  \n",
       "4              no             yes        2       no        furnished  "
      ]
     },
     "execution_count": 111,
     "metadata": {},
     "output_type": "execute_result"
    }
   ],
   "source": [
    "model_data.head()\n"
   ]
  },
  {
   "cell_type": "code",
   "execution_count": 113,
   "id": "1c3008dd",
   "metadata": {
    "scrolled": true
   },
   "outputs": [
    {
     "data": {
      "text/plain": [
       "Index(['price', 'area', 'bedrooms', 'bathrooms', 'stories', 'mainroad',\n",
       "       'guestroom', 'basement', 'hotwaterheating', 'airconditioning',\n",
       "       'parking', 'prefarea', 'furnishingstatus'],\n",
       "      dtype='object')"
      ]
     },
     "execution_count": 113,
     "metadata": {},
     "output_type": "execute_result"
    }
   ],
   "source": [
    "model_data.columns"
   ]
  },
  {
   "cell_type": "code",
   "execution_count": 114,
   "id": "3f11069e",
   "metadata": {},
   "outputs": [
    {
     "name": "stdout",
     "output_type": "stream",
     "text": [
      "(381, 13) (164, 13)\n"
     ]
    }
   ],
   "source": [
    "# Split the data into train and test sets\n",
    "train_data, test_data = train_test_split(model_data, test_size=0.3, random_state=1729)\n",
    "\n",
    "print(train_data.shape, test_data.shape)\n"
   ]
  },
  {
   "cell_type": "code",
   "execution_count": 118,
   "id": "a46522be",
   "metadata": {},
   "outputs": [
    {
     "name": "stdout",
     "output_type": "stream",
     "text": [
      "(381, 13) (164, 13)\n"
     ]
    },
    {
     "name": "stderr",
     "output_type": "stream",
     "text": [
      "/home/ec2-user/anaconda3/envs/python3/lib/python3.10/site-packages/numpy/core/fromnumeric.py:57: FutureWarning: 'DataFrame.swapaxes' is deprecated and will be removed in a future version. Please use 'DataFrame.transpose' instead.\n",
      "  return bound(*args, **kwds)\n"
     ]
    }
   ],
   "source": [
    "# Split the data into train and test sets\n",
    "train_data, test_data = np.split(model_data.sample(frac=1, random_state=1729), [int(0.7 * len(model_data))])\n",
    "print(train_data.shape, test_data.shape)"
   ]
  },
  {
   "cell_type": "code",
   "execution_count": 120,
   "id": "c637ae5c",
   "metadata": {},
   "outputs": [],
   "source": [
    "# Saving Train Data into a Bucket\n",
    "train_output_path = 'train.csv'\n",
    "pd.concat([train_data['price'], train_data.drop('price', axis=1)], axis=1).to_csv(train_output_path, index=False, header=False)\n"
   ]
  },
  {
   "cell_type": "code",
   "execution_count": 121,
   "id": "9171c789",
   "metadata": {},
   "outputs": [
    {
     "name": "stderr",
     "output_type": "stream",
     "text": [
      "INFO:botocore.credentials:Found credentials from IAM Role: BaseNotebookInstanceEc2InstanceRole\n",
      "INFO:botocore.credentials:Found credentials from IAM Role: BaseNotebookInstanceEc2InstanceRole\n"
     ]
    }
   ],
   "source": [
    "boto3.Session().resource('s3').Bucket(bucket_name).Object(os.path.join(prefix, 'train/train.csv')).upload_file(train_output_path)\n",
    "s3_input_train = TrainingInput(s3_data='s3://{}/{}/train'.format(bucket_name, prefix), content_type='csv')\n",
    "\n",
    "# Saving Test Data into a Bucket\n",
    "test_output_path = 'test.csv'\n",
    "pd.concat([test_data['price'], test_data.drop('price', axis=1)], axis=1).to_csv(test_output_path, index=False, header=False)\n",
    "\n",
    "boto3.Session().resource('s3').Bucket(bucket_name).Object(os.path.join(prefix, 'test/test.csv')).upload_file(test_output_path)\n",
    "s3_input_test = TrainingInput(s3_data='s3://{}/{}/test'.format(bucket_name, prefix), content_type='csv')"
   ]
  },
  {
   "cell_type": "code",
   "execution_count": 122,
   "id": "04f4bfdf",
   "metadata": {},
   "outputs": [
    {
     "name": "stderr",
     "output_type": "stream",
     "text": [
      "INFO:sagemaker.image_uris:Defaulting to only available Python version: py3\n",
      "INFO:sagemaker.image_uris:Defaulting to only supported image scope: cpu.\n"
     ]
    }
   ],
   "source": [
    "# Train XGBoost Model using SageMaker\n",
    "container = retrieve('xgboost', boto3.Session().region_name, version=\"1.0-1\")\n"
   ]
  },
  {
   "cell_type": "code",
   "execution_count": 123,
   "id": "568c0338",
   "metadata": {},
   "outputs": [],
   "source": [
    "hyperparameters = {\n",
    "    \"max_depth\": \"5\",\n",
    "    \"eta\": \"0.2\",\n",
    "    \"gamma\": \"4\",\n",
    "    \"min_child_weight\": \"6\",\n",
    "    \"subsample\": \"0.7\",\n",
    "    \"objective\": \"reg:squarederror\",  # Regression objective for house price prediction\n",
    "    \"num_round\": \"50\"\n",
    "}"
   ]
  },
  {
   "cell_type": "code",
   "execution_count": 124,
   "id": "41b7ead1",
   "metadata": {},
   "outputs": [],
   "source": [
    "estimator = Estimator(image_uri=container,\n",
    "                      hyperparameters=hyperparameters,\n",
    "                      role=sagemaker.get_execution_role(),\n",
    "                      instance_count=1,\n",
    "                      instance_type='ml.m5.2xlarge',\n",
    "                      volume_size=5,\n",
    "                      output_path=f's3://{bucket_name}/{prefix}/output',\n",
    "                      use_spot_instances=True,\n",
    "                      max_run=300,\n",
    "                      max_wait=600)"
   ]
  },
  {
   "cell_type": "code",
   "execution_count": 125,
   "id": "4a5296f7",
   "metadata": {},
   "outputs": [
    {
     "name": "stderr",
     "output_type": "stream",
     "text": [
      "INFO:sagemaker:Creating training-job with name: sagemaker-xgboost-2024-05-14-08-11-07-023\n"
     ]
    },
    {
     "name": "stdout",
     "output_type": "stream",
     "text": [
      "2024-05-14 08:11:07 Starting - Starting the training job...\n",
      "2024-05-14 08:11:21 Starting - Preparing the instances for training...\n",
      "2024-05-14 08:11:48 Downloading - Downloading input data...\n",
      "2024-05-14 08:12:29 Training - Training image download completed. Training in progress....\n",
      "2024-05-14 08:13:07 Uploading - Uploading generated training model\n",
      "2024-05-14 08:13:07 Completed - Training job completed\n",
      "\u001b[34m[2024-05-14 08:12:50.840 ip-10-0-188-254.ec2.internal:7 INFO utils.py:27] RULE_JOB_STOP_SIGNAL_FILENAME: None\u001b[0m\n",
      "\u001b[34mINFO:sagemaker-containers:Imported framework sagemaker_xgboost_container.training\u001b[0m\n",
      "\u001b[34mINFO:sagemaker-containers:Failed to parse hyperparameter objective value reg:squarederror to Json.\u001b[0m\n",
      "\u001b[34mReturning the value itself\u001b[0m\n",
      "\u001b[34mINFO:sagemaker-containers:No GPUs detected (normal if no gpus installed)\u001b[0m\n",
      "\u001b[34mINFO:sagemaker_xgboost_container.training:Running XGBoost Sagemaker in algorithm mode\u001b[0m\n",
      "\u001b[34mINFO:root:Determined delimiter of CSV input is ','\u001b[0m\n",
      "\u001b[34mINFO:root:Determined delimiter of CSV input is ','\u001b[0m\n",
      "\u001b[34mINFO:root:Determined delimiter of CSV input is ','\u001b[0m\n",
      "\u001b[34mINFO:root:Determined delimiter of CSV input is ','\u001b[0m\n",
      "\u001b[34mINFO:root:Single node training.\u001b[0m\n",
      "\u001b[34m[08:12:50] 381x12 matrix with 4572 entries loaded from /opt/ml/input/data/train?format=csv&label_column=0&delimiter=,\u001b[0m\n",
      "\u001b[34m[08:12:50] 164x12 matrix with 1968 entries loaded from /opt/ml/input/data/validation?format=csv&label_column=0&delimiter=,\u001b[0m\n",
      "\u001b[34m[2024-05-14 08:12:50.923 ip-10-0-188-254.ec2.internal:7 INFO json_config.py:91] Creating hook from json_config at /opt/ml/input/config/debughookconfig.json.\u001b[0m\n",
      "\u001b[34m[2024-05-14 08:12:50.924 ip-10-0-188-254.ec2.internal:7 INFO hook.py:201] tensorboard_dir has not been set for the hook. SMDebug will not be exporting tensorboard summaries.\u001b[0m\n",
      "\u001b[34m[2024-05-14 08:12:50.924 ip-10-0-188-254.ec2.internal:7 INFO profiler_config_parser.py:102] User has disabled profiler.\u001b[0m\n",
      "\u001b[34m[2024-05-14 08:12:50.924 ip-10-0-188-254.ec2.internal:7 INFO hook.py:255] Saving to /opt/ml/output/tensors\u001b[0m\n",
      "\u001b[34m[2024-05-14 08:12:50.925 ip-10-0-188-254.ec2.internal:7 INFO state_store.py:77] The checkpoint config file /opt/ml/input/config/checkpointconfig.json does not exist.\u001b[0m\n",
      "\u001b[34mINFO:root:Debug hook created from config\u001b[0m\n",
      "\u001b[34mINFO:root:Train matrix has 381 rows\u001b[0m\n",
      "\u001b[34mINFO:root:Validation matrix has 164 rows\u001b[0m\n",
      "\u001b[34m[08:12:50] WARNING: /workspace/src/learner.cc:328: \u001b[0m\n",
      "\u001b[34mParameters: { num_round } might not be used.\n",
      "  This may not be accurate due to some parameters are only used in language bindings but\n",
      "  passed down to XGBoost core.  Or some parameters are not used but slip through this\n",
      "  verification. Please open an issue if you find above cases.\u001b[0m\n",
      "\u001b[34m[0]#011train-rmse:4207465.00000#011validation-rmse:4239068.50000\u001b[0m\n",
      "\u001b[34m[2024-05-14 08:12:50.933 ip-10-0-188-254.ec2.internal:7 INFO hook.py:423] Monitoring the collections: metrics\u001b[0m\n",
      "\u001b[34m[2024-05-14 08:12:50.936 ip-10-0-188-254.ec2.internal:7 INFO hook.py:486] Hook is writing from the hook with pid: 7\u001b[0m\n",
      "\u001b[34m[1]#011train-rmse:3470085.00000#011validation-rmse:3491325.00000\u001b[0m\n",
      "\u001b[34m[2]#011train-rmse:2874851.50000#011validation-rmse:2894558.00000\u001b[0m\n",
      "\u001b[34m[3]#011train-rmse:2432694.75000#011validation-rmse:2445057.50000\u001b[0m\n",
      "\u001b[34m[4]#011train-rmse:2088489.00000#011validation-rmse:2106566.25000\u001b[0m\n",
      "\u001b[34m[5]#011train-rmse:1836835.62500#011validation-rmse:1855720.00000\u001b[0m\n",
      "\u001b[34m[6]#011train-rmse:1611787.50000#011validation-rmse:1640133.62500\u001b[0m\n",
      "\u001b[34m[7]#011train-rmse:1464574.62500#011validation-rmse:1512697.37500\u001b[0m\n",
      "\u001b[34m[8]#011train-rmse:1345576.75000#011validation-rmse:1397339.12500\u001b[0m\n",
      "\u001b[34m[9]#011train-rmse:1259565.50000#011validation-rmse:1344515.62500\u001b[0m\n",
      "\u001b[34m[10]#011train-rmse:1195059.50000#011validation-rmse:1289364.37500\u001b[0m\n",
      "\u001b[34m[11]#011train-rmse:1159160.62500#011validation-rmse:1254265.37500\u001b[0m\n",
      "\u001b[34m[12]#011train-rmse:1128540.62500#011validation-rmse:1229500.50000\u001b[0m\n",
      "\u001b[34m[13]#011train-rmse:1095883.87500#011validation-rmse:1212941.87500\u001b[0m\n",
      "\u001b[34m[14]#011train-rmse:1076995.87500#011validation-rmse:1207182.87500\u001b[0m\n",
      "\u001b[34m[15]#011train-rmse:1058151.12500#011validation-rmse:1201928.50000\u001b[0m\n",
      "\u001b[34m[16]#011train-rmse:1045033.87500#011validation-rmse:1204611.87500\u001b[0m\n",
      "\u001b[34m[17]#011train-rmse:1037617.75000#011validation-rmse:1199434.50000\u001b[0m\n",
      "\u001b[34m[18]#011train-rmse:1028697.68750#011validation-rmse:1189952.25000\u001b[0m\n",
      "\u001b[34m[19]#011train-rmse:1019250.00000#011validation-rmse:1190453.75000\u001b[0m\n",
      "\u001b[34m[20]#011train-rmse:1012036.56250#011validation-rmse:1191258.75000\u001b[0m\n",
      "\u001b[34m[21]#011train-rmse:1001734.00000#011validation-rmse:1204585.62500\u001b[0m\n",
      "\u001b[34m[22]#011train-rmse:995063.75000#011validation-rmse:1198603.50000\u001b[0m\n",
      "\u001b[34m[23]#011train-rmse:988683.06250#011validation-rmse:1208764.50000\u001b[0m\n",
      "\u001b[34m[24]#011train-rmse:984587.93750#011validation-rmse:1207856.62500\u001b[0m\n",
      "\u001b[34m[25]#011train-rmse:979304.62500#011validation-rmse:1203967.00000\u001b[0m\n",
      "\u001b[34m[26]#011train-rmse:974870.56250#011validation-rmse:1200709.12500\u001b[0m\n",
      "\u001b[34m[27]#011train-rmse:970504.25000#011validation-rmse:1206888.50000\u001b[0m\n",
      "\u001b[34m[28]#011train-rmse:968092.68750#011validation-rmse:1205452.87500\u001b[0m\n",
      "\u001b[34m[29]#011train-rmse:962555.31250#011validation-rmse:1201614.75000\u001b[0m\n",
      "\u001b[34m[30]#011train-rmse:956147.25000#011validation-rmse:1214740.25000\u001b[0m\n",
      "\u001b[34m[31]#011train-rmse:949294.37500#011validation-rmse:1224449.75000\u001b[0m\n",
      "\u001b[34m[32]#011train-rmse:946481.12500#011validation-rmse:1229386.00000\u001b[0m\n",
      "\u001b[34m[33]#011train-rmse:939961.93750#011validation-rmse:1232286.62500\u001b[0m\n",
      "\u001b[34m[34]#011train-rmse:935396.25000#011validation-rmse:1237481.12500\u001b[0m\n",
      "\u001b[34m[35]#011train-rmse:924220.75000#011validation-rmse:1238705.12500\u001b[0m\n",
      "\u001b[34m[36]#011train-rmse:916887.31250#011validation-rmse:1231944.12500\u001b[0m\n",
      "\u001b[34m[37]#011train-rmse:911512.12500#011validation-rmse:1233404.37500\u001b[0m\n",
      "\u001b[34m[38]#011train-rmse:905321.56250#011validation-rmse:1243560.87500\u001b[0m\n",
      "\u001b[34m[39]#011train-rmse:902727.37500#011validation-rmse:1244478.50000\u001b[0m\n",
      "\u001b[34m[40]#011train-rmse:899536.87500#011validation-rmse:1249461.75000\u001b[0m\n",
      "\u001b[34m[41]#011train-rmse:893370.18750#011validation-rmse:1242029.12500\u001b[0m\n",
      "\u001b[34m[42]#011train-rmse:889084.62500#011validation-rmse:1242060.25000\u001b[0m\n",
      "\u001b[34m[43]#011train-rmse:879474.81250#011validation-rmse:1243103.75000\u001b[0m\n",
      "\u001b[34m[44]#011train-rmse:873893.12500#011validation-rmse:1239461.75000\u001b[0m\n",
      "\u001b[34m[45]#011train-rmse:866827.68750#011validation-rmse:1242040.00000\u001b[0m\n",
      "\u001b[34m[46]#011train-rmse:862925.18750#011validation-rmse:1248039.12500\u001b[0m\n",
      "\u001b[34m[47]#011train-rmse:859010.06250#011validation-rmse:1252975.87500\u001b[0m\n",
      "\u001b[34m[48]#011train-rmse:854985.43750#011validation-rmse:1252736.25000\u001b[0m\n",
      "\u001b[34m[49]#011train-rmse:852238.81250#011validation-rmse:1252182.62500\u001b[0m\n",
      "Training seconds: 79\n",
      "Billable seconds: 38\n",
      "Managed Spot Training savings: 51.9%\n"
     ]
    }
   ],
   "source": [
    "estimator.fit({'train': s3_input_train, 'validation': s3_input_test})"
   ]
  },
  {
   "cell_type": "code",
   "execution_count": null,
   "id": "d57b707f",
   "metadata": {},
   "outputs": [],
   "source": [
    "\n",
    "# Step 6: Train the Model\n",
    "s3_input_train = TrainingInput(s3_data=s3_train_path, content_type='csv')\n",
    "estimator.fit({'train': s3_input_train})"
   ]
  }
 ],
 "metadata": {
  "kernelspec": {
   "display_name": "conda_python3",
   "language": "python",
   "name": "conda_python3"
  },
  "language_info": {
   "codemirror_mode": {
    "name": "ipython",
    "version": 3
   },
   "file_extension": ".py",
   "mimetype": "text/x-python",
   "name": "python",
   "nbconvert_exporter": "python",
   "pygments_lexer": "ipython3",
   "version": "3.10.14"
  }
 },
 "nbformat": 4,
 "nbformat_minor": 5
}
